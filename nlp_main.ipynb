{
  "cells": [
    {
      "cell_type": "markdown",
      "metadata": {
        "id": "view-in-github",
        "colab_type": "text"
      },
      "source": [
        "<a href=\"https://colab.research.google.com/github/Mehrads/NLP-method/blob/main/nlp_main.ipynb\" target=\"_parent\"><img src=\"https://colab.research.google.com/assets/colab-badge.svg\" alt=\"Open In Colab\"/></a>"
      ]
    },
    {
      "cell_type": "code",
      "source": [
        "#!git clone \"https://github.com/Mehrads/NLP-method\""
      ],
      "metadata": {
        "id": "4ycWFq8Aofpy"
      },
      "execution_count": 1,
      "outputs": []
    },
    {
      "cell_type": "code",
      "execution_count": 2,
      "metadata": {
        "colab": {
          "base_uri": "https://localhost:8080/"
        },
        "id": "TGawIofc09ic",
        "outputId": "dc9b0de6-87dc-4c49-969b-f9c0e61763b1"
      },
      "outputs": [
        {
          "output_type": "stream",
          "name": "stdout",
          "text": [
            "Drive already mounted at /content/drive; to attempt to forcibly remount, call drive.mount(\"/content/drive\", force_remount=True).\n"
          ]
        }
      ],
      "source": [
        "from google.colab import drive\n",
        "drive.mount(\"/content/drive\")"
      ]
    },
    {
      "cell_type": "code",
      "source": [
        "from wordcloud import WordCloud\n",
        "import numpy as np\n",
        "import pandas as pd\n",
        "from sklearn.model_selection import train_test_split\n",
        "from sklearn.metrics import confusion_matrix, roc_curve, auc, fbeta_score\n",
        "!pip install neattext\n",
        "import neattext.functions as nfx\n",
        "import matplotlib.pyplot as plt\n",
        "import plotly.express as plx\n",
        "from sklearn.metrics import classification_report\n",
        "import keras\n",
        "from keras.layers import Embedding,Dense,LSTM,Bidirectional,GlobalMaxPooling1D,Input,Dropout\n",
        "from keras.callbacks import EarlyStopping,ReduceLROnPlateau\n",
        "from keras.models import Sequential\n",
        "import tensorflow as tf\n",
        "from tensorflow.keras.models import load_model\n",
        "from sklearn.preprocessing import LabelEncoder\n",
        "from keras.preprocessing.text import Tokenizer\n",
        "from keras.utils import pad_sequences\n",
        "!pip install keras_tuner\n",
        "import keras_tuner as kt\n",
        "from tqdm import tqdm\n",
        "import seaborn as sns\n",
        "import pickle\n",
        "import warnings\n",
        "import time\n",
        "warnings.filterwarnings('ignore')"
      ],
      "metadata": {
        "id": "GdqZyGnpEbcj",
        "colab": {
          "base_uri": "https://localhost:8080/"
        },
        "outputId": "68c00aab-7a27-412e-9155-f59952107386"
      },
      "execution_count": 3,
      "outputs": [
        {
          "output_type": "stream",
          "name": "stdout",
          "text": [
            "Collecting neattext\n",
            "  Downloading neattext-0.1.3-py3-none-any.whl (114 kB)\n",
            "\u001b[2K     \u001b[90m━━━━━━━━━━━━━━━━━━━━━━━━━━━━━━━━━━━━━━━━\u001b[0m \u001b[32m114.7/114.7 kB\u001b[0m \u001b[31m1.3 MB/s\u001b[0m eta \u001b[36m0:00:00\u001b[0m\n",
            "\u001b[?25hInstalling collected packages: neattext\n",
            "Successfully installed neattext-0.1.3\n",
            "Collecting keras_tuner\n",
            "  Downloading keras_tuner-1.4.7-py3-none-any.whl (129 kB)\n",
            "\u001b[2K     \u001b[90m━━━━━━━━━━━━━━━━━━━━━━━━━━━━━━━━━━━━━━━━\u001b[0m \u001b[32m129.1/129.1 kB\u001b[0m \u001b[31m4.5 MB/s\u001b[0m eta \u001b[36m0:00:00\u001b[0m\n",
            "\u001b[?25hRequirement already satisfied: keras in /usr/local/lib/python3.10/dist-packages (from keras_tuner) (2.15.0)\n",
            "Requirement already satisfied: packaging in /usr/local/lib/python3.10/dist-packages (from keras_tuner) (24.0)\n",
            "Requirement already satisfied: requests in /usr/local/lib/python3.10/dist-packages (from keras_tuner) (2.31.0)\n",
            "Collecting kt-legacy (from keras_tuner)\n",
            "  Downloading kt_legacy-1.0.5-py3-none-any.whl (9.6 kB)\n",
            "Requirement already satisfied: charset-normalizer<4,>=2 in /usr/local/lib/python3.10/dist-packages (from requests->keras_tuner) (3.3.2)\n",
            "Requirement already satisfied: idna<4,>=2.5 in /usr/local/lib/python3.10/dist-packages (from requests->keras_tuner) (3.6)\n",
            "Requirement already satisfied: urllib3<3,>=1.21.1 in /usr/local/lib/python3.10/dist-packages (from requests->keras_tuner) (2.0.7)\n",
            "Requirement already satisfied: certifi>=2017.4.17 in /usr/local/lib/python3.10/dist-packages (from requests->keras_tuner) (2024.2.2)\n",
            "Installing collected packages: kt-legacy, keras_tuner\n",
            "Successfully installed keras_tuner-1.4.7 kt-legacy-1.0.5\n"
          ]
        }
      ]
    },
    {
      "cell_type": "code",
      "execution_count": 4,
      "metadata": {
        "colab": {
          "base_uri": "https://localhost:8080/",
          "height": 206
        },
        "id": "56AehcMG2QIz",
        "outputId": "16779f5c-afc5-41dd-ec65-06699e8af510"
      },
      "outputs": [
        {
          "output_type": "execute_result",
          "data": {
            "text/plain": [
              "   Unnamed: 0                                               text        class\n",
              "0           2  Ex Wife Threatening SuicideRecently I left my ...      suicide\n",
              "1           3  Am I weird I don't get affected by compliments...  non-suicide\n",
              "2           4  Finally 2020 is almost over... So I can never ...  non-suicide\n",
              "3           8          i need helpjust help me im crying so hard      suicide\n",
              "4           9  I’m so lostHello, my name is Adam (16) and I’v...      suicide"
            ],
            "text/html": [
              "\n",
              "  <div id=\"df-5ef5a82b-6400-433c-b067-ffc327694161\" class=\"colab-df-container\">\n",
              "    <div>\n",
              "<style scoped>\n",
              "    .dataframe tbody tr th:only-of-type {\n",
              "        vertical-align: middle;\n",
              "    }\n",
              "\n",
              "    .dataframe tbody tr th {\n",
              "        vertical-align: top;\n",
              "    }\n",
              "\n",
              "    .dataframe thead th {\n",
              "        text-align: right;\n",
              "    }\n",
              "</style>\n",
              "<table border=\"1\" class=\"dataframe\">\n",
              "  <thead>\n",
              "    <tr style=\"text-align: right;\">\n",
              "      <th></th>\n",
              "      <th>Unnamed: 0</th>\n",
              "      <th>text</th>\n",
              "      <th>class</th>\n",
              "    </tr>\n",
              "  </thead>\n",
              "  <tbody>\n",
              "    <tr>\n",
              "      <th>0</th>\n",
              "      <td>2</td>\n",
              "      <td>Ex Wife Threatening SuicideRecently I left my ...</td>\n",
              "      <td>suicide</td>\n",
              "    </tr>\n",
              "    <tr>\n",
              "      <th>1</th>\n",
              "      <td>3</td>\n",
              "      <td>Am I weird I don't get affected by compliments...</td>\n",
              "      <td>non-suicide</td>\n",
              "    </tr>\n",
              "    <tr>\n",
              "      <th>2</th>\n",
              "      <td>4</td>\n",
              "      <td>Finally 2020 is almost over... So I can never ...</td>\n",
              "      <td>non-suicide</td>\n",
              "    </tr>\n",
              "    <tr>\n",
              "      <th>3</th>\n",
              "      <td>8</td>\n",
              "      <td>i need helpjust help me im crying so hard</td>\n",
              "      <td>suicide</td>\n",
              "    </tr>\n",
              "    <tr>\n",
              "      <th>4</th>\n",
              "      <td>9</td>\n",
              "      <td>I’m so lostHello, my name is Adam (16) and I’v...</td>\n",
              "      <td>suicide</td>\n",
              "    </tr>\n",
              "  </tbody>\n",
              "</table>\n",
              "</div>\n",
              "    <div class=\"colab-df-buttons\">\n",
              "\n",
              "  <div class=\"colab-df-container\">\n",
              "    <button class=\"colab-df-convert\" onclick=\"convertToInteractive('df-5ef5a82b-6400-433c-b067-ffc327694161')\"\n",
              "            title=\"Convert this dataframe to an interactive table.\"\n",
              "            style=\"display:none;\">\n",
              "\n",
              "  <svg xmlns=\"http://www.w3.org/2000/svg\" height=\"24px\" viewBox=\"0 -960 960 960\">\n",
              "    <path d=\"M120-120v-720h720v720H120Zm60-500h600v-160H180v160Zm220 220h160v-160H400v160Zm0 220h160v-160H400v160ZM180-400h160v-160H180v160Zm440 0h160v-160H620v160ZM180-180h160v-160H180v160Zm440 0h160v-160H620v160Z\"/>\n",
              "  </svg>\n",
              "    </button>\n",
              "\n",
              "  <style>\n",
              "    .colab-df-container {\n",
              "      display:flex;\n",
              "      gap: 12px;\n",
              "    }\n",
              "\n",
              "    .colab-df-convert {\n",
              "      background-color: #E8F0FE;\n",
              "      border: none;\n",
              "      border-radius: 50%;\n",
              "      cursor: pointer;\n",
              "      display: none;\n",
              "      fill: #1967D2;\n",
              "      height: 32px;\n",
              "      padding: 0 0 0 0;\n",
              "      width: 32px;\n",
              "    }\n",
              "\n",
              "    .colab-df-convert:hover {\n",
              "      background-color: #E2EBFA;\n",
              "      box-shadow: 0px 1px 2px rgba(60, 64, 67, 0.3), 0px 1px 3px 1px rgba(60, 64, 67, 0.15);\n",
              "      fill: #174EA6;\n",
              "    }\n",
              "\n",
              "    .colab-df-buttons div {\n",
              "      margin-bottom: 4px;\n",
              "    }\n",
              "\n",
              "    [theme=dark] .colab-df-convert {\n",
              "      background-color: #3B4455;\n",
              "      fill: #D2E3FC;\n",
              "    }\n",
              "\n",
              "    [theme=dark] .colab-df-convert:hover {\n",
              "      background-color: #434B5C;\n",
              "      box-shadow: 0px 1px 3px 1px rgba(0, 0, 0, 0.15);\n",
              "      filter: drop-shadow(0px 1px 2px rgba(0, 0, 0, 0.3));\n",
              "      fill: #FFFFFF;\n",
              "    }\n",
              "  </style>\n",
              "\n",
              "    <script>\n",
              "      const buttonEl =\n",
              "        document.querySelector('#df-5ef5a82b-6400-433c-b067-ffc327694161 button.colab-df-convert');\n",
              "      buttonEl.style.display =\n",
              "        google.colab.kernel.accessAllowed ? 'block' : 'none';\n",
              "\n",
              "      async function convertToInteractive(key) {\n",
              "        const element = document.querySelector('#df-5ef5a82b-6400-433c-b067-ffc327694161');\n",
              "        const dataTable =\n",
              "          await google.colab.kernel.invokeFunction('convertToInteractive',\n",
              "                                                    [key], {});\n",
              "        if (!dataTable) return;\n",
              "\n",
              "        const docLinkHtml = 'Like what you see? Visit the ' +\n",
              "          '<a target=\"_blank\" href=https://colab.research.google.com/notebooks/data_table.ipynb>data table notebook</a>'\n",
              "          + ' to learn more about interactive tables.';\n",
              "        element.innerHTML = '';\n",
              "        dataTable['output_type'] = 'display_data';\n",
              "        await google.colab.output.renderOutput(dataTable, element);\n",
              "        const docLink = document.createElement('div');\n",
              "        docLink.innerHTML = docLinkHtml;\n",
              "        element.appendChild(docLink);\n",
              "      }\n",
              "    </script>\n",
              "  </div>\n",
              "\n",
              "\n",
              "<div id=\"df-9b5c5f05-38e5-4f1c-ba71-a202ffe9d13e\">\n",
              "  <button class=\"colab-df-quickchart\" onclick=\"quickchart('df-9b5c5f05-38e5-4f1c-ba71-a202ffe9d13e')\"\n",
              "            title=\"Suggest charts\"\n",
              "            style=\"display:none;\">\n",
              "\n",
              "<svg xmlns=\"http://www.w3.org/2000/svg\" height=\"24px\"viewBox=\"0 0 24 24\"\n",
              "     width=\"24px\">\n",
              "    <g>\n",
              "        <path d=\"M19 3H5c-1.1 0-2 .9-2 2v14c0 1.1.9 2 2 2h14c1.1 0 2-.9 2-2V5c0-1.1-.9-2-2-2zM9 17H7v-7h2v7zm4 0h-2V7h2v10zm4 0h-2v-4h2v4z\"/>\n",
              "    </g>\n",
              "</svg>\n",
              "  </button>\n",
              "\n",
              "<style>\n",
              "  .colab-df-quickchart {\n",
              "      --bg-color: #E8F0FE;\n",
              "      --fill-color: #1967D2;\n",
              "      --hover-bg-color: #E2EBFA;\n",
              "      --hover-fill-color: #174EA6;\n",
              "      --disabled-fill-color: #AAA;\n",
              "      --disabled-bg-color: #DDD;\n",
              "  }\n",
              "\n",
              "  [theme=dark] .colab-df-quickchart {\n",
              "      --bg-color: #3B4455;\n",
              "      --fill-color: #D2E3FC;\n",
              "      --hover-bg-color: #434B5C;\n",
              "      --hover-fill-color: #FFFFFF;\n",
              "      --disabled-bg-color: #3B4455;\n",
              "      --disabled-fill-color: #666;\n",
              "  }\n",
              "\n",
              "  .colab-df-quickchart {\n",
              "    background-color: var(--bg-color);\n",
              "    border: none;\n",
              "    border-radius: 50%;\n",
              "    cursor: pointer;\n",
              "    display: none;\n",
              "    fill: var(--fill-color);\n",
              "    height: 32px;\n",
              "    padding: 0;\n",
              "    width: 32px;\n",
              "  }\n",
              "\n",
              "  .colab-df-quickchart:hover {\n",
              "    background-color: var(--hover-bg-color);\n",
              "    box-shadow: 0 1px 2px rgba(60, 64, 67, 0.3), 0 1px 3px 1px rgba(60, 64, 67, 0.15);\n",
              "    fill: var(--button-hover-fill-color);\n",
              "  }\n",
              "\n",
              "  .colab-df-quickchart-complete:disabled,\n",
              "  .colab-df-quickchart-complete:disabled:hover {\n",
              "    background-color: var(--disabled-bg-color);\n",
              "    fill: var(--disabled-fill-color);\n",
              "    box-shadow: none;\n",
              "  }\n",
              "\n",
              "  .colab-df-spinner {\n",
              "    border: 2px solid var(--fill-color);\n",
              "    border-color: transparent;\n",
              "    border-bottom-color: var(--fill-color);\n",
              "    animation:\n",
              "      spin 1s steps(1) infinite;\n",
              "  }\n",
              "\n",
              "  @keyframes spin {\n",
              "    0% {\n",
              "      border-color: transparent;\n",
              "      border-bottom-color: var(--fill-color);\n",
              "      border-left-color: var(--fill-color);\n",
              "    }\n",
              "    20% {\n",
              "      border-color: transparent;\n",
              "      border-left-color: var(--fill-color);\n",
              "      border-top-color: var(--fill-color);\n",
              "    }\n",
              "    30% {\n",
              "      border-color: transparent;\n",
              "      border-left-color: var(--fill-color);\n",
              "      border-top-color: var(--fill-color);\n",
              "      border-right-color: var(--fill-color);\n",
              "    }\n",
              "    40% {\n",
              "      border-color: transparent;\n",
              "      border-right-color: var(--fill-color);\n",
              "      border-top-color: var(--fill-color);\n",
              "    }\n",
              "    60% {\n",
              "      border-color: transparent;\n",
              "      border-right-color: var(--fill-color);\n",
              "    }\n",
              "    80% {\n",
              "      border-color: transparent;\n",
              "      border-right-color: var(--fill-color);\n",
              "      border-bottom-color: var(--fill-color);\n",
              "    }\n",
              "    90% {\n",
              "      border-color: transparent;\n",
              "      border-bottom-color: var(--fill-color);\n",
              "    }\n",
              "  }\n",
              "</style>\n",
              "\n",
              "  <script>\n",
              "    async function quickchart(key) {\n",
              "      const quickchartButtonEl =\n",
              "        document.querySelector('#' + key + ' button');\n",
              "      quickchartButtonEl.disabled = true;  // To prevent multiple clicks.\n",
              "      quickchartButtonEl.classList.add('colab-df-spinner');\n",
              "      try {\n",
              "        const charts = await google.colab.kernel.invokeFunction(\n",
              "            'suggestCharts', [key], {});\n",
              "      } catch (error) {\n",
              "        console.error('Error during call to suggestCharts:', error);\n",
              "      }\n",
              "      quickchartButtonEl.classList.remove('colab-df-spinner');\n",
              "      quickchartButtonEl.classList.add('colab-df-quickchart-complete');\n",
              "    }\n",
              "    (() => {\n",
              "      let quickchartButtonEl =\n",
              "        document.querySelector('#df-9b5c5f05-38e5-4f1c-ba71-a202ffe9d13e button');\n",
              "      quickchartButtonEl.style.display =\n",
              "        google.colab.kernel.accessAllowed ? 'block' : 'none';\n",
              "    })();\n",
              "  </script>\n",
              "</div>\n",
              "\n",
              "    </div>\n",
              "  </div>\n"
            ],
            "application/vnd.google.colaboratory.intrinsic+json": {
              "type": "dataframe",
              "variable_name": "data"
            }
          },
          "metadata": {},
          "execution_count": 4
        }
      ],
      "source": [
        "data = pd.read_csv(\"/content/drive/MyDrive/Project/Suicide_Detection.csv\")\n",
        "data.head()"
      ]
    },
    {
      "cell_type": "code",
      "execution_count": 5,
      "metadata": {
        "colab": {
          "base_uri": "https://localhost:8080/"
        },
        "id": "1-anZIW32qY6",
        "outputId": "6cb7fdcf-b3c7-4f2b-95e6-2b3f426670f7"
      },
      "outputs": [
        {
          "output_type": "execute_result",
          "data": {
            "text/plain": [
              "1"
            ]
          },
          "metadata": {},
          "execution_count": 5
        }
      ],
      "source": [
        "data[\"Unnamed: 0\"].value_counts().max()"
      ]
    },
    {
      "cell_type": "code",
      "execution_count": 6,
      "metadata": {
        "colab": {
          "base_uri": "https://localhost:8080/"
        },
        "id": "RCEAUzDV3DXp",
        "outputId": "219716d8-4beb-42aa-ac7d-1ac2ce81d806"
      },
      "outputs": [
        {
          "output_type": "execute_result",
          "data": {
            "text/plain": [
              "suicide        116037\n",
              "non-suicide    116037\n",
              "Name: class, dtype: int64"
            ]
          },
          "metadata": {},
          "execution_count": 6
        }
      ],
      "source": [
        "data[\"class\"].value_counts()"
      ]
    },
    {
      "cell_type": "code",
      "execution_count": 7,
      "metadata": {
        "colab": {
          "base_uri": "https://localhost:8080/",
          "height": 495
        },
        "id": "3sepszg94Z9n",
        "outputId": "2239cb17-30d2-4a7a-ce24-01c18238a4f4"
      },
      "outputs": [
        {
          "output_type": "display_data",
          "data": {
            "text/plain": [
              "<Figure size 640x480 with 1 Axes>"
            ],
            "image/png": "[encoded data removed]"
          },
          "metadata": {}
        }
      ],
      "source": [
        "data[\"class\"].value_counts().plot(kind=\"bar\", color=[\"salmon\", \"lightblue\"]);"
      ]
    },
    {
      "cell_type": "code",
      "execution_count": 8,
      "metadata": {
        "colab": {
          "base_uri": "https://localhost:8080/"
        },
        "id": "1A3LD-Zg3kwC",
        "outputId": "86579a9c-1a31-4cca-d51a-d832bbf8a9a4"
      },
      "outputs": [
        {
          "output_type": "stream",
          "name": "stdout",
          "text": [
            "<class 'pandas.core.frame.DataFrame'>\n",
            "RangeIndex: 232074 entries, 0 to 232073\n",
            "Data columns (total 2 columns):\n",
            " #   Column  Non-Null Count   Dtype \n",
            "---  ------  --------------   ----- \n",
            " 0   text    232074 non-null  object\n",
            " 1   class   232074 non-null  object\n",
            "dtypes: object(2)\n",
            "memory usage: 3.5+ MB\n"
          ]
        }
      ],
      "source": [
        "data = data.drop(\"Unnamed: 0\", axis=1)\n",
        "data.info()"
      ]
    },
    {
      "cell_type": "code",
      "execution_count": 9,
      "metadata": {
        "colab": {
          "base_uri": "https://localhost:8080/",
          "height": 35
        },
        "id": "VgG1pUHI4CUF",
        "outputId": "08512bc9-9091-4ecd-c0f3-a1fc6a57176e"
      },
      "outputs": [
        {
          "output_type": "execute_result",
          "data": {
            "text/plain": [
              "\"Am I weird I don't get affected by compliments if it's coming from someone I know irl but I feel really good when internet strangers do it\""
            ],
            "application/vnd.google.colaboratory.intrinsic+json": {
              "type": "string"
            }
          },
          "metadata": {},
          "execution_count": 9
        }
      ],
      "source": [
        "data[\"text\"][1]"
      ]
    },
    {
      "cell_type": "markdown",
      "source": [
        "We have to imbalance the data since the number of people who are thinking about suicide is less than of the people who are not."
      ],
      "metadata": {
        "id": "SPDOoZ3ZwKvq"
      }
    },
    {
      "cell_type": "code",
      "source": [
        "# Separate the classes\n",
        "suicide_df = data[data['class'] == 'suicide']\n",
        "non_suicide_df = data[data['class'] == 'non-suicide']\n",
        "\n",
        "\n",
        "undersampled_suicide_df = suicide_df.sample(n=int(len(non_suicide_df)//1.4), random_state=42)\n",
        "data = pd.concat([undersampled_suicide_df, non_suicide_df]).sample(frac=1, random_state=42)"
      ],
      "metadata": {
        "id": "fymvH5eyvRN2"
      },
      "execution_count": 10,
      "outputs": []
    },
    {
      "cell_type": "code",
      "execution_count": 11,
      "metadata": {
        "id": "c1VXRF0r7KC-"
      },
      "outputs": [],
      "source": [
        "train_data,test_data=train_test_split(data,test_size=0.2,random_state=42)"
      ]
    },
    {
      "cell_type": "code",
      "execution_count": 12,
      "metadata": {
        "id": "4R6v1dQr68yw"
      },
      "outputs": [],
      "source": [
        "def clean_text(text):\n",
        "    text_length=[]\n",
        "    cleaned_text=[]\n",
        "    for sent in tqdm(text):\n",
        "        sent=sent.lower()\n",
        "        sent=nfx.remove_special_characters(sent)\n",
        "        sent=nfx.remove_stopwords(sent)\n",
        "        #sent=nfx.remove_shortwords(sent)\n",
        "        text_length.append(len(sent.split()))\n",
        "        cleaned_text.append(sent)\n",
        "    return cleaned_text,text_length"
      ]
    },
    {
      "cell_type": "code",
      "execution_count": 13,
      "metadata": {
        "colab": {
          "base_uri": "https://localhost:8080/"
        },
        "id": "EASP-uvc7NH9",
        "outputId": "fab1ccf2-d27e-4e92-ec39-5d88c622340c"
      },
      "outputs": [
        {
          "output_type": "stream",
          "name": "stderr",
          "text": [
            "100%|██████████| 159136/159136 [00:18<00:00, 8792.48it/s]\n",
            "100%|██████████| 39784/39784 [00:05<00:00, 6699.38it/s]\n"
          ]
        }
      ],
      "source": [
        "np.random.seed(42)\n",
        "cleaned_train_text,train_text_length=clean_text(train_data.text)\n",
        "cleaned_test_text,test_text_length=clean_text(test_data.text)"
      ]
    },
    {
      "cell_type": "code",
      "execution_count": 14,
      "metadata": {
        "id": "9uAzY1AY7vxh"
      },
      "outputs": [],
      "source": [
        "tokenizer=Tokenizer()\n",
        "tokenizer.fit_on_texts(cleaned_train_text)"
      ]
    },
    {
      "cell_type": "code",
      "source": [
        "import pickle\n",
        "\n",
        "with open('/content/drive/MyDrive/Project/tokenizer.pkl', 'wb') as handle:\n",
        "    pickle.dump(tokenizer, handle, protocol=pickle.HIGHEST_PROTOCOL)\n"
      ],
      "metadata": {
        "id": "Pvyqnz218FiH"
      },
      "execution_count": 15,
      "outputs": []
    },
    {
      "cell_type": "code",
      "execution_count": 16,
      "metadata": {
        "id": "XkuVlSPvXSlx"
      },
      "outputs": [],
      "source": [
        "word_freq=pd.DataFrame(tokenizer.word_counts.items(),columns=['word','count']).sort_values(by='count',ascending=False)"
      ]
    },
    {
      "cell_type": "code",
      "execution_count": 17,
      "metadata": {
        "colab": {
          "base_uri": "https://localhost:8080/",
          "height": 990
        },
        "id": "QBdfvpBwa8wn",
        "outputId": "c724bdf5-cfce-447f-b9b2-3711b9f38c9c"
      },
      "outputs": [
        {
          "output_type": "execute_result",
          "data": {
            "text/plain": [
              "        word   count\n",
              "0         im  200978\n",
              "16      dont  129695\n",
              "106     like  114563\n",
              "119     want   89775\n",
              "109     know   80076\n",
              "116     feel   73216\n",
              "286     life   68636\n",
              "344      ive   62931\n",
              "161     cant   61118\n",
              "55    people   57223\n",
              "80      time   51906\n",
              "5     filler   47271\n",
              "11     think   43931\n",
              "442    going   40881\n",
              "158  friends   37418\n",
              "64       day   34406\n",
              "2       help   33379\n",
              "451      got   30670\n",
              "67     years   30504\n",
              "566   things   29292\n",
              "336     good   29071\n",
              "201   school   28410\n",
              "316  fucking   27760\n",
              "390     fuck   27189\n",
              "265      way   26483\n",
              "160     need   25653\n",
              "37     didnt   24768\n",
              "323  anymore   24232\n",
              "395     talk   23466\n",
              "143     love   23290"
            ],
            "text/html": [
              "\n",
              "  <div id=\"df-ebb4a8e7-7cab-41f8-bc56-b3d0cc275ce0\" class=\"colab-df-container\">\n",
              "    <div>\n",
              "<style scoped>\n",
              "    .dataframe tbody tr th:only-of-type {\n",
              "        vertical-align: middle;\n",
              "    }\n",
              "\n",
              "    .dataframe tbody tr th {\n",
              "        vertical-align: top;\n",
              "    }\n",
              "\n",
              "    .dataframe thead th {\n",
              "        text-align: right;\n",
              "    }\n",
              "</style>\n",
              "<table border=\"1\" class=\"dataframe\">\n",
              "  <thead>\n",
              "    <tr style=\"text-align: right;\">\n",
              "      <th></th>\n",
              "      <th>word</th>\n",
              "      <th>count</th>\n",
              "    </tr>\n",
              "  </thead>\n",
              "  <tbody>\n",
              "    <tr>\n",
              "      <th>0</th>\n",
              "      <td>im</td>\n",
              "      <td>200978</td>\n",
              "    </tr>\n",
              "    <tr>\n",
              "      <th>16</th>\n",
              "      <td>dont</td>\n",
              "      <td>129695</td>\n",
              "    </tr>\n",
              "    <tr>\n",
              "      <th>106</th>\n",
              "      <td>like</td>\n",
              "      <td>114563</td>\n",
              "    </tr>\n",
              "    <tr>\n",
              "      <th>119</th>\n",
              "      <td>want</td>\n",
              "      <td>89775</td>\n",
              "    </tr>\n",
              "    <tr>\n",
              "      <th>109</th>\n",
              "      <td>know</td>\n",
              "      <td>80076</td>\n",
              "    </tr>\n",
              "    <tr>\n",
              "      <th>116</th>\n",
              "      <td>feel</td>\n",
              "      <td>73216</td>\n",
              "    </tr>\n",
              "    <tr>\n",
              "      <th>286</th>\n",
              "      <td>life</td>\n",
              "      <td>68636</td>\n",
              "    </tr>\n",
              "    <tr>\n",
              "      <th>344</th>\n",
              "      <td>ive</td>\n",
              "      <td>62931</td>\n",
              "    </tr>\n",
              "    <tr>\n",
              "      <th>161</th>\n",
              "      <td>cant</td>\n",
              "      <td>61118</td>\n",
              "    </tr>\n",
              "    <tr>\n",
              "      <th>55</th>\n",
              "      <td>people</td>\n",
              "      <td>57223</td>\n",
              "    </tr>\n",
              "    <tr>\n",
              "      <th>80</th>\n",
              "      <td>time</td>\n",
              "      <td>51906</td>\n",
              "    </tr>\n",
              "    <tr>\n",
              "      <th>5</th>\n",
              "      <td>filler</td>\n",
              "      <td>47271</td>\n",
              "    </tr>\n",
              "    <tr>\n",
              "      <th>11</th>\n",
              "      <td>think</td>\n",
              "      <td>43931</td>\n",
              "    </tr>\n",
              "    <tr>\n",
              "      <th>442</th>\n",
              "      <td>going</td>\n",
              "      <td>40881</td>\n",
              "    </tr>\n",
              "    <tr>\n",
              "      <th>158</th>\n",
              "      <td>friends</td>\n",
              "      <td>37418</td>\n",
              "    </tr>\n",
              "    <tr>\n",
              "      <th>64</th>\n",
              "      <td>day</td>\n",
              "      <td>34406</td>\n",
              "    </tr>\n",
              "    <tr>\n",
              "      <th>2</th>\n",
              "      <td>help</td>\n",
              "      <td>33379</td>\n",
              "    </tr>\n",
              "    <tr>\n",
              "      <th>451</th>\n",
              "      <td>got</td>\n",
              "      <td>30670</td>\n",
              "    </tr>\n",
              "    <tr>\n",
              "      <th>67</th>\n",
              "      <td>years</td>\n",
              "      <td>30504</td>\n",
              "    </tr>\n",
              "    <tr>\n",
              "      <th>566</th>\n",
              "      <td>things</td>\n",
              "      <td>29292</td>\n",
              "    </tr>\n",
              "    <tr>\n",
              "      <th>336</th>\n",
              "      <td>good</td>\n",
              "      <td>29071</td>\n",
              "    </tr>\n",
              "    <tr>\n",
              "      <th>201</th>\n",
              "      <td>school</td>\n",
              "      <td>28410</td>\n",
              "    </tr>\n",
              "    <tr>\n",
              "      <th>316</th>\n",
              "      <td>fucking</td>\n",
              "      <td>27760</td>\n",
              "    </tr>\n",
              "    <tr>\n",
              "      <th>390</th>\n",
              "      <td>fuck</td>\n",
              "      <td>27189</td>\n",
              "    </tr>\n",
              "    <tr>\n",
              "      <th>265</th>\n",
              "      <td>way</td>\n",
              "      <td>26483</td>\n",
              "    </tr>\n",
              "    <tr>\n",
              "      <th>160</th>\n",
              "      <td>need</td>\n",
              "      <td>25653</td>\n",
              "    </tr>\n",
              "    <tr>\n",
              "      <th>37</th>\n",
              "      <td>didnt</td>\n",
              "      <td>24768</td>\n",
              "    </tr>\n",
              "    <tr>\n",
              "      <th>323</th>\n",
              "      <td>anymore</td>\n",
              "      <td>24232</td>\n",
              "    </tr>\n",
              "    <tr>\n",
              "      <th>395</th>\n",
              "      <td>talk</td>\n",
              "      <td>23466</td>\n",
              "    </tr>\n",
              "    <tr>\n",
              "      <th>143</th>\n",
              "      <td>love</td>\n",
              "      <td>23290</td>\n",
              "    </tr>\n",
              "  </tbody>\n",
              "</table>\n",
              "</div>\n",
              "    <div class=\"colab-df-buttons\">\n",
              "\n",
              "  <div class=\"colab-df-container\">\n",
              "    <button class=\"colab-df-convert\" onclick=\"convertToInteractive('df-ebb4a8e7-7cab-41f8-bc56-b3d0cc275ce0')\"\n",
              "            title=\"Convert this dataframe to an interactive table.\"\n",
              "            style=\"display:none;\">\n",
              "\n",
              "  <svg xmlns=\"http://www.w3.org/2000/svg\" height=\"24px\" viewBox=\"0 -960 960 960\">\n",
              "    <path d=\"M120-120v-720h720v720H120Zm60-500h600v-160H180v160Zm220 220h160v-160H400v160Zm0 220h160v-160H400v160ZM180-400h160v-160H180v160Zm440 0h160v-160H620v160ZM180-180h160v-160H180v160Zm440 0h160v-160H620v160Z\"/>\n",
              "  </svg>\n",
              "    </button>\n",
              "\n",
              "  <style>\n",
              "    .colab-df-container {\n",
              "      display:flex;\n",
              "      gap: 12px;\n",
              "    }\n",
              "\n",
              "    .colab-df-convert {\n",
              "      background-color: #E8F0FE;\n",
              "      border: none;\n",
              "      border-radius: 50%;\n",
              "      cursor: pointer;\n",
              "      display: none;\n",
              "      fill: #1967D2;\n",
              "      height: 32px;\n",
              "      padding: 0 0 0 0;\n",
              "      width: 32px;\n",
              "    }\n",
              "\n",
              "    .colab-df-convert:hover {\n",
              "      background-color: #E2EBFA;\n",
              "      box-shadow: 0px 1px 2px rgba(60, 64, 67, 0.3), 0px 1px 3px 1px rgba(60, 64, 67, 0.15);\n",
              "      fill: #174EA6;\n",
              "    }\n",
              "\n",
              "    .colab-df-buttons div {\n",
              "      margin-bottom: 4px;\n",
              "    }\n",
              "\n",
              "    [theme=dark] .colab-df-convert {\n",
              "      background-color: #3B4455;\n",
              "      fill: #D2E3FC;\n",
              "    }\n",
              "\n",
              "    [theme=dark] .colab-df-convert:hover {\n",
              "      background-color: #434B5C;\n",
              "      box-shadow: 0px 1px 3px 1px rgba(0, 0, 0, 0.15);\n",
              "      filter: drop-shadow(0px 1px 2px rgba(0, 0, 0, 0.3));\n",
              "      fill: #FFFFFF;\n",
              "    }\n",
              "  </style>\n",
              "\n",
              "    <script>\n",
              "      const buttonEl =\n",
              "        document.querySelector('#df-ebb4a8e7-7cab-41f8-bc56-b3d0cc275ce0 button.colab-df-convert');\n",
              "      buttonEl.style.display =\n",
              "        google.colab.kernel.accessAllowed ? 'block' : 'none';\n",
              "\n",
              "      async function convertToInteractive(key) {\n",
              "        const element = document.querySelector('#df-ebb4a8e7-7cab-41f8-bc56-b3d0cc275ce0');\n",
              "        const dataTable =\n",
              "          await google.colab.kernel.invokeFunction('convertToInteractive',\n",
              "                                                    [key], {});\n",
              "        if (!dataTable) return;\n",
              "\n",
              "        const docLinkHtml = 'Like what you see? Visit the ' +\n",
              "          '<a target=\"_blank\" href=https://colab.research.google.com/notebooks/data_table.ipynb>data table notebook</a>'\n",
              "          + ' to learn more about interactive tables.';\n",
              "        element.innerHTML = '';\n",
              "        dataTable['output_type'] = 'display_data';\n",
              "        await google.colab.output.renderOutput(dataTable, element);\n",
              "        const docLink = document.createElement('div');\n",
              "        docLink.innerHTML = docLinkHtml;\n",
              "        element.appendChild(docLink);\n",
              "      }\n",
              "    </script>\n",
              "  </div>\n",
              "\n",
              "\n",
              "<div id=\"df-546e76a3-7ffe-4f46-8512-293a61141795\">\n",
              "  <button class=\"colab-df-quickchart\" onclick=\"quickchart('df-546e76a3-7ffe-4f46-8512-293a61141795')\"\n",
              "            title=\"Suggest charts\"\n",
              "            style=\"display:none;\">\n",
              "\n",
              "<svg xmlns=\"http://www.w3.org/2000/svg\" height=\"24px\"viewBox=\"0 0 24 24\"\n",
              "     width=\"24px\">\n",
              "    <g>\n",
              "        <path d=\"M19 3H5c-1.1 0-2 .9-2 2v14c0 1.1.9 2 2 2h14c1.1 0 2-.9 2-2V5c0-1.1-.9-2-2-2zM9 17H7v-7h2v7zm4 0h-2V7h2v10zm4 0h-2v-4h2v4z\"/>\n",
              "    </g>\n",
              "</svg>\n",
              "  </button>\n",
              "\n",
              "<style>\n",
              "  .colab-df-quickchart {\n",
              "      --bg-color: #E8F0FE;\n",
              "      --fill-color: #1967D2;\n",
              "      --hover-bg-color: #E2EBFA;\n",
              "      --hover-fill-color: #174EA6;\n",
              "      --disabled-fill-color: #AAA;\n",
              "      --disabled-bg-color: #DDD;\n",
              "  }\n",
              "\n",
              "  [theme=dark] .colab-df-quickchart {\n",
              "      --bg-color: #3B4455;\n",
              "      --fill-color: #D2E3FC;\n",
              "      --hover-bg-color: #434B5C;\n",
              "      --hover-fill-color: #FFFFFF;\n",
              "      --disabled-bg-color: #3B4455;\n",
              "      --disabled-fill-color: #666;\n",
              "  }\n",
              "\n",
              "  .colab-df-quickchart {\n",
              "    background-color: var(--bg-color);\n",
              "    border: none;\n",
              "    border-radius: 50%;\n",
              "    cursor: pointer;\n",
              "    display: none;\n",
              "    fill: var(--fill-color);\n",
              "    height: 32px;\n",
              "    padding: 0;\n",
              "    width: 32px;\n",
              "  }\n",
              "\n",
              "  .colab-df-quickchart:hover {\n",
              "    background-color: var(--hover-bg-color);\n",
              "    box-shadow: 0 1px 2px rgba(60, 64, 67, 0.3), 0 1px 3px 1px rgba(60, 64, 67, 0.15);\n",
              "    fill: var(--button-hover-fill-color);\n",
              "  }\n",
              "\n",
              "  .colab-df-quickchart-complete:disabled,\n",
              "  .colab-df-quickchart-complete:disabled:hover {\n",
              "    background-color: var(--disabled-bg-color);\n",
              "    fill: var(--disabled-fill-color);\n",
              "    box-shadow: none;\n",
              "  }\n",
              "\n",
              "  .colab-df-spinner {\n",
              "    border: 2px solid var(--fill-color);\n",
              "    border-color: transparent;\n",
              "    border-bottom-color: var(--fill-color);\n",
              "    animation:\n",
              "      spin 1s steps(1) infinite;\n",
              "  }\n",
              "\n",
              "  @keyframes spin {\n",
              "    0% {\n",
              "      border-color: transparent;\n",
              "      border-bottom-color: var(--fill-color);\n",
              "      border-left-color: var(--fill-color);\n",
              "    }\n",
              "    20% {\n",
              "      border-color: transparent;\n",
              "      border-left-color: var(--fill-color);\n",
              "      border-top-color: var(--fill-color);\n",
              "    }\n",
              "    30% {\n",
              "      border-color: transparent;\n",
              "      border-left-color: var(--fill-color);\n",
              "      border-top-color: var(--fill-color);\n",
              "      border-right-color: var(--fill-color);\n",
              "    }\n",
              "    40% {\n",
              "      border-color: transparent;\n",
              "      border-right-color: var(--fill-color);\n",
              "      border-top-color: var(--fill-color);\n",
              "    }\n",
              "    60% {\n",
              "      border-color: transparent;\n",
              "      border-right-color: var(--fill-color);\n",
              "    }\n",
              "    80% {\n",
              "      border-color: transparent;\n",
              "      border-right-color: var(--fill-color);\n",
              "      border-bottom-color: var(--fill-color);\n",
              "    }\n",
              "    90% {\n",
              "      border-color: transparent;\n",
              "      border-bottom-color: var(--fill-color);\n",
              "    }\n",
              "  }\n",
              "</style>\n",
              "\n",
              "  <script>\n",
              "    async function quickchart(key) {\n",
              "      const quickchartButtonEl =\n",
              "        document.querySelector('#' + key + ' button');\n",
              "      quickchartButtonEl.disabled = true;  // To prevent multiple clicks.\n",
              "      quickchartButtonEl.classList.add('colab-df-spinner');\n",
              "      try {\n",
              "        const charts = await google.colab.kernel.invokeFunction(\n",
              "            'suggestCharts', [key], {});\n",
              "      } catch (error) {\n",
              "        console.error('Error during call to suggestCharts:', error);\n",
              "      }\n",
              "      quickchartButtonEl.classList.remove('colab-df-spinner');\n",
              "      quickchartButtonEl.classList.add('colab-df-quickchart-complete');\n",
              "    }\n",
              "    (() => {\n",
              "      let quickchartButtonEl =\n",
              "        document.querySelector('#df-546e76a3-7ffe-4f46-8512-293a61141795 button');\n",
              "      quickchartButtonEl.style.display =\n",
              "        google.colab.kernel.accessAllowed ? 'block' : 'none';\n",
              "    })();\n",
              "  </script>\n",
              "</div>\n",
              "\n",
              "    </div>\n",
              "  </div>\n"
            ],
            "application/vnd.google.colaboratory.intrinsic+json": {
              "type": "dataframe",
              "summary": "{\n  \"name\": \"word_freq\",\n  \"rows\": 30,\n  \"fields\": [\n    {\n      \"column\": \"word\",\n      \"properties\": {\n        \"dtype\": \"string\",\n        \"num_unique_values\": 30,\n        \"samples\": [\n          \"anymore\",\n          \"day\",\n          \"fuck\"\n        ],\n        \"semantic_type\": \"\",\n        \"description\": \"\"\n      }\n    },\n    {\n      \"column\": \"count\",\n      \"properties\": {\n        \"dtype\": \"number\",\n        \"std\": 39216,\n        \"min\": 23290,\n        \"max\": 200978,\n        \"num_unique_values\": 30,\n        \"samples\": [\n          24232,\n          34406,\n          27189\n        ],\n        \"semantic_type\": \"\",\n        \"description\": \"\"\n      }\n    }\n  ]\n}"
            }
          },
          "metadata": {},
          "execution_count": 17
        }
      ],
      "source": [
        "word_freq.iloc[:30]"
      ]
    },
    {
      "cell_type": "code",
      "execution_count": 18,
      "metadata": {
        "colab": {
          "base_uri": "https://localhost:8080/",
          "height": 878
        },
        "id": "-uEhL563Xcdp",
        "outputId": "d3f6ce60-4a7b-4ed1-c397-c3d358c3e037"
      },
      "outputs": [
        {
          "output_type": "display_data",
          "data": {
            "text/plain": [
              "<Figure size 1400x1000 with 1 Axes>"
            ],
            "image/png": "[encoded data removed]"
          },
          "metadata": {}
        }
      ],
      "source": [
        "fig, ax = plt.subplots(figsize=(14, 10))\n",
        "my_cmap = plt.get_cmap(\"plasma\")\n",
        "y = word_freq[\"count\"].iloc[:30]\n",
        "rescale = lambda y: (y - np.min(y)) / (np.max(y) - np.min(y))\n",
        "ax.bar(x=word_freq[\"word\"].iloc[:30], height=word_freq[\"count\"].iloc[:30], color=my_cmap(rescale(y)))\n",
        "ax.set_xticklabels(ax.get_xticklabels(), rotation=90)\n",
        "plt.show();"
      ]
    },
    {
      "cell_type": "code",
      "execution_count": 19,
      "metadata": {
        "id": "eZqt1bmZe4ro"
      },
      "outputs": [],
      "source": [
        "np.random.seed(42)\n",
        "train_text_seq=tokenizer.texts_to_sequences(cleaned_train_text)\n",
        "train_text_pad=pad_sequences(train_text_seq,maxlen=50)\n",
        "\n",
        "\n",
        "test_text_seq=tokenizer.texts_to_sequences(cleaned_test_text)\n",
        "test_text_pad=pad_sequences(test_text_seq,maxlen=50)"
      ]
    },
    {
      "cell_type": "code",
      "execution_count": 20,
      "metadata": {
        "id": "zGFUZoGoe8F-"
      },
      "outputs": [],
      "source": [
        "np.random.seed(42)\n",
        "lbl_target=LabelEncoder()\n",
        "train_output=lbl_target.fit_transform(train_data['class'])\n",
        "test_output=lbl_target.transform(test_data['class'])"
      ]
    },
    {
      "cell_type": "code",
      "execution_count": 21,
      "metadata": {
        "id": "YQLW_xpnkgZD"
      },
      "outputs": [],
      "source": [
        "with open('/content/drive/MyDrive/Project/glove.840B.300d.pkl', 'rb') as fp:\n",
        "    glove_embedding = pickle.load(fp)"
      ]
    },
    {
      "cell_type": "code",
      "execution_count": 22,
      "metadata": {
        "id": "in6jiSeNfLkg"
      },
      "outputs": [],
      "source": [
        "np.random.seed(42)\n",
        "v=len(tokenizer.word_index)\n",
        "\n",
        "embedding_matrix=np.zeros((v+1,300), dtype=float)\n",
        "for word,idx in tokenizer.word_index.items():\n",
        "    embedding_vector=glove_embedding.get(word)\n",
        "    if embedding_vector is not None:\n",
        "        embedding_matrix[idx]=embedding_vector"
      ]
    },
    {
      "cell_type": "code",
      "execution_count": 23,
      "metadata": {
        "id": "_c-GeKSktVky"
      },
      "outputs": [],
      "source": [
        "early_stop=EarlyStopping(patience=5)\n",
        "reducelr=ReduceLROnPlateau(patience=3)"
      ]
    },
    {
      "cell_type": "code",
      "execution_count": 24,
      "metadata": {
        "id": "PhNYOSVdIC7T"
      },
      "outputs": [],
      "source": [
        "np.random.seed(42)\n",
        "\n",
        "class TransformerEncoder(tf.keras.layers.Layer):\n",
        "    def __init__(self, head_size, num_heads, ff_dim, dropout=0, **kwargs):\n",
        "        super(TransformerEncoder, self).__init__(**kwargs)\n",
        "        self.attention = tf.keras.layers.MultiHeadAttention(num_heads=num_heads, key_dim=head_size, dropout=dropout)\n",
        "        self.ffn = tf.keras.Sequential([\n",
        "            tf.keras.layers.Dense(ff_dim, activation=\"relu\"),\n",
        "            # This Dense layer's units will be dynamically set in the call method\n",
        "            tf.keras.layers.Dense(head_size),  # Placeholder, will adjust dynamically\n",
        "        ])\n",
        "        self.dropout1 = tf.keras.layers.Dropout(dropout)\n",
        "        self.norm1 = tf.keras.layers.LayerNormalization(epsilon=1e-6)\n",
        "        self.dropout2 = tf.keras.layers.Dropout(dropout)\n",
        "        self.norm2 = tf.keras.layers.LayerNormalization(epsilon=1e-6)\n",
        "\n",
        "    def call(self, inputs, training=False):\n",
        "        attn_output = self.attention(inputs, inputs)\n",
        "        attn_output = self.dropout1(attn_output, training=training)\n",
        "        out1 = self.norm1(inputs + attn_output)\n",
        "        # Dynamically set the output dimension of the last Dense layer to match input dimension\n",
        "        self.ffn.layers[-1].units = inputs.shape[-1]\n",
        "        ffn_output = self.ffn(out1)\n",
        "        ffn_output = self.dropout2(ffn_output, training=training)\n",
        "        return self.norm2(out1 + ffn_output)\n",
        "# Define your model architecture here\n",
        "model = tf.keras.Sequential([\n",
        "    tf.keras.layers.Input(shape=(50,)),\n",
        "    tf.keras.layers.Embedding(v+1, 300, weights=[embedding_matrix], trainable=False),\n",
        "    tf.keras.layers.LSTM(20, return_sequences=True),\n",
        "    TransformerEncoder(head_size=128, num_heads=4, ff_dim=512, dropout=0.1),\n",
        "    tf.keras.layers.GlobalMaxPooling1D(),\n",
        "    tf.keras.layers.Dense(256, activation='relu'),\n",
        "    tf.keras.layers.Dense(1, activation='sigmoid')\n",
        "])\n",
        "model.compile(optimizer=tf.keras.optimizers.SGD(learning_rate=0.1, momentum=0.09),\n",
        "              loss='binary_crossentropy',\n",
        "              metrics=['accuracy'])\n",
        "\n"
      ]
    },
    {
      "cell_type": "code",
      "execution_count": 25,
      "metadata": {
        "id": "hHo__q6vN-jx"
      },
      "outputs": [],
      "source": [
        "# np.random.seed(42)\n",
        "# hybrid_model = model.fit(train_text_pad, train_output,\n",
        "#               validation_data=(test_text_pad, test_output),\n",
        "#               epochs=20,\n",
        "#               batch_size=256,\n",
        "#               callbacks=[early_stop, reducelr])"
      ]
    },
    {
      "cell_type": "markdown",
      "source": [
        "Saving our model"
      ],
      "metadata": {
        "id": "envg2hJYfIbT"
      }
    },
    {
      "cell_type": "code",
      "source": [
        "# saved_model = model.save('/content/drive/MyDrive/Project/Model/hybrid_model_imbalance.h5')"
      ],
      "metadata": {
        "id": "_6iMyOzufJzf"
      },
      "execution_count": 26,
      "outputs": []
    },
    {
      "cell_type": "code",
      "source": [
        "hybrid_model_load = load_model('/content/drive/MyDrive/Project/Model/hybrid_model_imbalance.h5', custom_objects={'TransformerEncoder': TransformerEncoder})\n",
        "# with open('/content/drive/MyDrive/Project/tokenizer.pkl', 'rb') as t:\n",
        "#     tokenizers = pickle.load(t)"
      ],
      "metadata": {
        "id": "6fKaJZU2Ii3K"
      },
      "execution_count": 27,
      "outputs": []
    },
    {
      "cell_type": "code",
      "source": [
        "\n",
        "text = \"I want to kill myself\"\n",
        "\n",
        "\n",
        "def clean_text_single(text):\n",
        "    text = text.lower()\n",
        "    text = nfx.remove_special_characters(text)\n",
        "    text = nfx.remove_stopwords(text)\n",
        "    return text\n",
        "\n",
        "# Clean your single text input\n",
        "cleaned_text = clean_text_single(text)\n",
        "\n",
        "# Tokenize and pad\n",
        "sequence = tokenizer.texts_to_sequences([cleaned_text])  # Note the list wrapping\n",
        "padded_sequence = pad_sequences(sequence, maxlen=50)\n",
        "\n",
        "\n",
        "# Predict\n",
        "start_time = time.time()\n",
        "prediction = hybrid_model_load.predict(padded_sequence)\n",
        "end_time = time.time()\n",
        "\n",
        "# Interpret the prediction\n",
        "threshold = 0.5\n",
        "classified_output = \"suicide\" if prediction[0][0] > threshold else \"non-suicide\"\n",
        "print(f\"Classification result: {classified_output}\")\n",
        "print(f\"Time taken for prediction: {end_time - start_time} seconds\")"
      ],
      "metadata": {
        "id": "KZ-33o6WGSao",
        "colab": {
          "base_uri": "https://localhost:8080/"
        },
        "outputId": "8b9ad668-3bc6-4524-da7f-d111f6a37c4c"
      },
      "execution_count": 28,
      "outputs": [
        {
          "output_type": "stream",
          "name": "stdout",
          "text": [
            "1/1 [==============================] - 2s 2s/step\n",
            "Classification result: suicide\n",
            "Time taken for prediction: 1.8447718620300293 seconds\n"
          ]
        }
      ]
    },
    {
      "cell_type": "code",
      "execution_count": 29,
      "metadata": {
        "id": "pr_F34iDfQ6M",
        "colab": {
          "base_uri": "https://localhost:8080/"
        },
        "outputId": "ad58ca8e-c7b3-4823-9788-5e0e9abbaef5"
      },
      "outputs": [
        {
          "output_type": "stream",
          "name": "stdout",
          "text": [
            "1244/1244 [==============================] - 7s 5ms/step\n",
            "4973/4973 [==============================] - 25s 5ms/step\n",
            "TESTING DATA CLASSIFICATION REPORT \n",
            " \n",
            "\n",
            "              precision    recall  f1-score   support\n",
            "\n",
            " non-suicide       0.94      0.94      0.94     23248\n",
            "     suicide       0.92      0.92      0.92     16536\n",
            "\n",
            "    accuracy                           0.93     39784\n",
            "   macro avg       0.93      0.93      0.93     39784\n",
            "weighted avg       0.93      0.93      0.93     39784\n",
            "\n",
            "TRAINING DATA CLASSIFICATION REPORT \n",
            " \n",
            "\n",
            "              precision    recall  f1-score   support\n",
            "\n",
            " non-suicide       0.97      0.95      0.96     92789\n",
            "     suicide       0.93      0.96      0.94     66347\n",
            "\n",
            "    accuracy                           0.95    159136\n",
            "   macro avg       0.95      0.95      0.95    159136\n",
            "weighted avg       0.95      0.95      0.95    159136\n",
            "\n"
          ]
        }
      ],
      "source": [
        "predictions_test = (hybrid_model_load.predict(test_text_pad) > 0.4).astype(int)\n",
        "predictions_train = (hybrid_model_load.predict(train_text_pad) > 0.4).astype(int)\n",
        "\n",
        "print('TESTING DATA CLASSIFICATION REPORT \\n \\n')\n",
        "print(classification_report(test_output,predictions_test,\n",
        "                            target_names=lbl_target.inverse_transform([0,1])))\n",
        "\n",
        "print('TRAINING DATA CLASSIFICATION REPORT \\n \\n')\n",
        "print(classification_report(train_output,predictions_train,\n",
        "                           target_names=lbl_target.inverse_transform([0,1])))"
      ]
    },
    {
      "cell_type": "code",
      "source": [
        "conf = confusion_matrix(test_output, predictions_test)\n",
        "plt.figure(figsize=(8, 6))\n",
        "sns.heatmap(conf, annot=True, fmt=\"d\", cmap=\"Blues\", xticklabels=[\"Predicted Negative\", \"Predicted Positive\"], yticklabels=[\"Actual Negative\", \"Actual Positive\"])\n",
        "plt.ylabel('Actual')\n",
        "plt.xlabel('Predicted')\n",
        "plt.title('Confusion Matrix')\n",
        "plt.show()"
      ],
      "metadata": {
        "colab": {
          "base_uri": "https://localhost:8080/",
          "height": 564
        },
        "id": "ZGFsVzM7aCkf",
        "outputId": "f34bb756-fb1b-46a9-fcc5-f57bc6ed240f"
      },
      "execution_count": 30,
      "outputs": [
        {
          "output_type": "display_data",
          "data": {
            "text/plain": [
              "<Figure size 800x600 with 2 Axes>"
            ],
            "image/png": "[encoded data removed]"
          },
          "metadata": {}
        }
      ]
    },
    {
      "cell_type": "code",
      "source": [
        "\n",
        "# Compute ROC curve and AUC\n",
        "fpr, tpr, thresholds = roc_curve(test_output, predictions_test)\n",
        "roc_auc = auc(fpr, tpr)\n",
        "\n",
        "# Plot ROC curve\n",
        "plt.figure(figsize=(8, 6))\n",
        "plt.plot(fpr, tpr, color='darkorange', lw=2, label='ROC curve (area = %0.2f)' % roc_auc)\n",
        "plt.plot([0, 1], [0, 1], color='navy', lw=2, linestyle='--')\n",
        "plt.xlim([0.0, 1.0])\n",
        "plt.ylim([0.0, 1.05])\n",
        "plt.xlabel('False Positive Rate')\n",
        "plt.ylabel('True Positive Rate')\n",
        "plt.title('Receiver Operating Characteristic')\n",
        "plt.legend(loc=\"lower right\")\n",
        "plt.show()"
      ],
      "metadata": {
        "colab": {
          "base_uri": "https://localhost:8080/",
          "height": 564
        },
        "id": "LVDTCo4k7Jab",
        "outputId": "d7deff85-4016-476d-b2bd-547cba83467f"
      },
      "execution_count": 31,
      "outputs": [
        {
          "output_type": "display_data",
          "data": {
            "text/plain": [
              "<Figure size 800x600 with 1 Axes>"
            ],
            "image/png": "[encoded data removed]"
          },
          "metadata": {}
        }
      ]
    },
    {
      "cell_type": "code",
      "source": [
        "beta = 0\n",
        "fbeta = fbeta_score(test_output, predictions_test, beta=beta, average='binary')\n",
        "\n",
        "print(f\"F-beta score with beta={beta}: {fbeta}\")"
      ],
      "metadata": {
        "colab": {
          "base_uri": "https://localhost:8080/"
        },
        "id": "p7bQrSrT_HIU",
        "outputId": "4154d73a-1794-4007-edaa-13ea1d1be488"
      },
      "execution_count": 32,
      "outputs": [
        {
          "output_type": "stream",
          "name": "stdout",
          "text": [
            "F-beta score with beta=0: 0.9168426769657836\n"
          ]
        }
      ]
    },
    {
      "cell_type": "code",
      "source": [
        "# Import matplotlib and numpy for plotting\n",
        "import matplotlib.pyplot as plt\n",
        "import numpy as np\n",
        "\n",
        "# Given precision, recall, f1-score for 'Ren et al.', 'Before Sampling' and 'Ours'\n",
        "# These values are placeholders; replace them with your actual values.\n",
        "ren_precision = 0.90\n",
        "before_sampling_precision = 0.89  # Placeholder value\n",
        "our_precision = 0.93\n",
        "\n",
        "ren_recall = 0.88\n",
        "before_sampling_recall = 0.87  # Placeholder value\n",
        "our_recall = 0.93\n",
        "\n",
        "ren_f1 = 0.89\n",
        "before_sampling_f1 = 0.88  # Placeholder value\n",
        "our_f1 = 0.93\n",
        "\n",
        "# Normalize by multiplying by 10^2 for visualization purposes\n",
        "ren_precision *= 100\n",
        "our_precision *= 100\n",
        "before_sampling_precision *= 100\n",
        "ren_recall *= 100\n",
        "our_recall *= 100\n",
        "before_sampling_recall *= 100\n",
        "ren_f1 *= 100\n",
        "our_f1 *= 100\n",
        "before_sampling_f1 *= 100\n",
        "\n",
        "# Data for plotting\n",
        "labels = ['Ren et al.', 'Before Sampling', 'Ours']\n",
        "precision_scores = [ren_precision, before_sampling_precision, our_precision]\n",
        "recall_scores = [ren_recall, before_sampling_recall, our_recall]\n",
        "f1_scores = [ren_f1, before_sampling_f1, our_f1]\n",
        "\n",
        "x = np.arange(len(labels))  # the label locations\n",
        "width = 0.35  # the width of the bars\n",
        "\n",
        "fig, ax = plt.subplots(1, 3, figsize=(18, 5))  # 1 row, 3 columns for Precision, Recall, F1-Measure\n",
        "\n",
        "# Plotting Precision\n",
        "ax[0].bar(x, precision_scores, width, label='Precision', color=['red', 'green', 'blue'])\n",
        "ax[0].set_title('Precision Comparison')\n",
        "ax[0].set_xticks(x)\n",
        "ax[0].set_xticklabels(labels)\n",
        "ax[0].set_ylim(0, max(precision_scores) + 10)  # Adding some space above the highest bar\n",
        "ax[0].set_ylabel('Precision x $10^{-2}$')\n",
        "\n",
        "# Plotting Recall\n",
        "ax[1].bar(x, recall_scores, width, label='Recall', color=['red', 'green', 'blue'])\n",
        "ax[1].set_title('Recall Comparison')\n",
        "ax[1].set_xticks(x)\n",
        "ax[1].set_xticklabels(labels)\n",
        "ax[1].set_ylim(0, max(recall_scores) + 10)\n",
        "ax[1].set_ylabel('Recall x $10^{-2}$')\n",
        "\n",
        "# Plotting F1-Measure\n",
        "ax[2].bar(x, f1_scores, width, label='F1-Measure', color=['red', 'green', 'blue'])\n",
        "ax[2].set_title('F1-Measure Comparison')\n",
        "ax[2].set_xticks(x)\n",
        "ax[2].set_xticklabels(labels)\n",
        "ax[2].set_ylim(0, max(f1_scores) + 10)\n",
        "ax[2].set_ylabel('F1-Measure x $10^{-2}$')\n",
        "\n",
        "# Showing the plots\n",
        "plt.tight_layout()\n",
        "plt.show()\n",
        "\n"
      ],
      "metadata": {
        "colab": {
          "base_uri": "https://localhost:8080/",
          "height": 353
        },
        "id": "5EcdxK2FJgFo",
        "outputId": "51283a52-757a-4940-c928-401da1b23b36"
      },
      "execution_count": 33,
      "outputs": [
        {
          "output_type": "display_data",
          "data": {
            "text/plain": [
              "<Figure size 1800x500 with 3 Axes>"
            ],
            "image/png": "[encoded data removed]"
          },
          "metadata": {}
        }
      ]
    }
  ],
  "metadata": {
    "accelerator": "GPU",
    "colab": {
      "gpuType": "T4",
      "provenance": [],
      "mount_file_id": "1WClnZj4et4F0AAcM_tJ3vMMGPLCEb7d3",
      "authorship_tag": "ABX9TyPGYP564R8DieTE7Wop47Yr",
      "include_colab_link": true
    },
    "kernelspec": {
      "display_name": "Python 3",
      "name": "python3"
    },
    "language_info": {
      "name": "python"
    }
  },
  "nbformat": 4,
  "nbformat_minor": 0
}